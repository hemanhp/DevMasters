{
  "nbformat": 4,
  "nbformat_minor": 0,
  "metadata": {
    "colab": {
      "name": "Day 1.ipynb",
      "provenance": [],
      "authorship_tag": "ABX9TyPvl2yGb3gd2qVZCgMXj0gL",
      "include_colab_link": true
    },
    "kernelspec": {
      "name": "python3",
      "display_name": "Python 3"
    },
    "language_info": {
      "name": "python"
    }
  },
  "cells": [
    {
      "cell_type": "markdown",
      "metadata": {
        "id": "view-in-github",
        "colab_type": "text"
      },
      "source": [
        "<a href=\"https://colab.research.google.com/github/hemanhp/DevMasters/blob/master/Day_1.ipynb\" target=\"_parent\"><img src=\"https://colab.research.google.com/assets/colab-badge.svg\" alt=\"Open In Colab\"/></a>"
      ]
    },
    {
      "cell_type": "code",
      "metadata": {
        "id": "hSKCF-aVExJu"
      },
      "source": [
        "import random"
      ],
      "execution_count": 1,
      "outputs": []
    },
    {
      "cell_type": "code",
      "metadata": {
        "colab": {
          "base_uri": "https://localhost:8080/"
        },
        "id": "G6rKeWGz0rBt",
        "outputId": "1b037bc8-a6c6-4950-8db0-af574c4bdd62"
      },
      "source": [
        "x = 16\n",
        "g = random.randint(1,10000)\n",
        "print(g)"
      ],
      "execution_count": 2,
      "outputs": [
        {
          "output_type": "stream",
          "name": "stdout",
          "text": [
            "4265\n"
          ]
        }
      ]
    },
    {
      "cell_type": "code",
      "metadata": {
        "colab": {
          "base_uri": "https://localhost:8080/"
        },
        "id": "JiLR2r1aG_ms",
        "outputId": "b2f1de62-2ca6-40bc-ecea-0befad57156a"
      },
      "source": [
        "while abs((g*g)-x)>=0.0000000001:\n",
        "  g = (g+(x/g))/2\n",
        "  print(g)\n",
        "print(\"square root:\")\n",
        "print(g)"
      ],
      "execution_count": 3,
      "outputs": [
        {
          "output_type": "stream",
          "name": "stdout",
          "text": [
            "2132.501875732708\n",
            "1066.2546893284705\n",
            "533.1348475620701\n",
            "266.58242936552574\n",
            "133.32122416245377\n",
            "66.72061753084871\n",
            "33.48021173239407\n",
            "16.979052981106094\n",
            "8.960695289478537\n",
            "5.373135507908038\n",
            "4.175456315991179\n",
            "4.003686413710437\n",
            "4.0000016971416645\n",
            "4.00000000000036\n",
            "square root:\n",
            "4.00000000000036\n"
          ]
        }
      ]
    }
  ]
}